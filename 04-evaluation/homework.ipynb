{
 "cells": [
  {
   "cell_type": "markdown",
   "id": "0348596c",
   "metadata": {},
   "source": [
    "## Homework\n",
    "\n",
    "> Note: sometimes your answer doesn't match one of \n",
    "> the options exactly. That's fine. \n",
    "> Select the option that's closest to your solution.\n",
    "\n",
    "\n",
    "In this homework, we will use the lead scoring dataset Bank Marketing dataset. Download it from [here](https://raw.githubusercontent.com/alexeygrigorev/datasets/master/course_lead_scoring.csv).\n",
    "\n",
    "\n",
    "In this dataset our desired target for classification task will be `converted` variable - has the client signed up to the platform or not. "
   ]
  },
  {
   "cell_type": "code",
   "execution_count": 52,
   "id": "c589e9bb",
   "metadata": {},
   "outputs": [],
   "source": [
    "import pandas as pd\n",
    "import numpy as np\n",
    "import matplotlib.pyplot as plt"
   ]
  },
  {
   "cell_type": "code",
   "execution_count": 53,
   "id": "c2fe229d",
   "metadata": {},
   "outputs": [
    {
     "data": {
      "text/html": [
       "<div>\n",
       "<style scoped>\n",
       "    .dataframe tbody tr th:only-of-type {\n",
       "        vertical-align: middle;\n",
       "    }\n",
       "\n",
       "    .dataframe tbody tr th {\n",
       "        vertical-align: top;\n",
       "    }\n",
       "\n",
       "    .dataframe thead th {\n",
       "        text-align: right;\n",
       "    }\n",
       "</style>\n",
       "<table border=\"1\" class=\"dataframe\">\n",
       "  <thead>\n",
       "    <tr style=\"text-align: right;\">\n",
       "      <th></th>\n",
       "      <th>lead_source</th>\n",
       "      <th>industry</th>\n",
       "      <th>number_of_courses_viewed</th>\n",
       "      <th>annual_income</th>\n",
       "      <th>employment_status</th>\n",
       "      <th>location</th>\n",
       "      <th>interaction_count</th>\n",
       "      <th>lead_score</th>\n",
       "      <th>converted</th>\n",
       "    </tr>\n",
       "  </thead>\n",
       "  <tbody>\n",
       "    <tr>\n",
       "      <th>0</th>\n",
       "      <td>paid_ads</td>\n",
       "      <td>NaN</td>\n",
       "      <td>1</td>\n",
       "      <td>79450.0</td>\n",
       "      <td>unemployed</td>\n",
       "      <td>south_america</td>\n",
       "      <td>4</td>\n",
       "      <td>0.94</td>\n",
       "      <td>1</td>\n",
       "    </tr>\n",
       "    <tr>\n",
       "      <th>1</th>\n",
       "      <td>social_media</td>\n",
       "      <td>retail</td>\n",
       "      <td>1</td>\n",
       "      <td>46992.0</td>\n",
       "      <td>employed</td>\n",
       "      <td>south_america</td>\n",
       "      <td>1</td>\n",
       "      <td>0.80</td>\n",
       "      <td>0</td>\n",
       "    </tr>\n",
       "    <tr>\n",
       "      <th>2</th>\n",
       "      <td>events</td>\n",
       "      <td>healthcare</td>\n",
       "      <td>5</td>\n",
       "      <td>78796.0</td>\n",
       "      <td>unemployed</td>\n",
       "      <td>australia</td>\n",
       "      <td>3</td>\n",
       "      <td>0.69</td>\n",
       "      <td>1</td>\n",
       "    </tr>\n",
       "    <tr>\n",
       "      <th>3</th>\n",
       "      <td>paid_ads</td>\n",
       "      <td>retail</td>\n",
       "      <td>2</td>\n",
       "      <td>83843.0</td>\n",
       "      <td>NaN</td>\n",
       "      <td>australia</td>\n",
       "      <td>1</td>\n",
       "      <td>0.87</td>\n",
       "      <td>0</td>\n",
       "    </tr>\n",
       "    <tr>\n",
       "      <th>4</th>\n",
       "      <td>referral</td>\n",
       "      <td>education</td>\n",
       "      <td>3</td>\n",
       "      <td>85012.0</td>\n",
       "      <td>self_employed</td>\n",
       "      <td>europe</td>\n",
       "      <td>3</td>\n",
       "      <td>0.62</td>\n",
       "      <td>1</td>\n",
       "    </tr>\n",
       "  </tbody>\n",
       "</table>\n",
       "</div>"
      ],
      "text/plain": [
       "    lead_source    industry  number_of_courses_viewed  annual_income  \\\n",
       "0      paid_ads         NaN                         1        79450.0   \n",
       "1  social_media      retail                         1        46992.0   \n",
       "2        events  healthcare                         5        78796.0   \n",
       "3      paid_ads      retail                         2        83843.0   \n",
       "4      referral   education                         3        85012.0   \n",
       "\n",
       "  employment_status       location  interaction_count  lead_score  converted  \n",
       "0        unemployed  south_america                  4        0.94          1  \n",
       "1          employed  south_america                  1        0.80          0  \n",
       "2        unemployed      australia                  3        0.69          1  \n",
       "3               NaN      australia                  1        0.87          0  \n",
       "4     self_employed         europe                  3        0.62          1  "
      ]
     },
     "execution_count": 53,
     "metadata": {},
     "output_type": "execute_result"
    }
   ],
   "source": [
    "df = pd.read_csv('course_lead_scoring.csv')\n",
    "df.head()"
   ]
  },
  {
   "cell_type": "code",
   "execution_count": 54,
   "id": "d82be1d2",
   "metadata": {},
   "outputs": [
    {
     "data": {
      "text/plain": [
       "(1462, 9)"
      ]
     },
     "execution_count": 54,
     "metadata": {},
     "output_type": "execute_result"
    }
   ],
   "source": [
    "df.shape"
   ]
  },
  {
   "cell_type": "markdown",
   "id": "6e5cbc06",
   "metadata": {},
   "source": [
    "### Data preparation\n",
    "\n",
    "* Check if the missing values are presented in the features.\n",
    "* If there are missing values:\n",
    "    * For caterogiral features, replace them with 'NA'\n",
    "    * For numerical features, replace with with 0.0 \n",
    "\n",
    "\n",
    "Split the data into 3 parts: train/validation/test with 60%/20%/20% distribution. Use `train_test_split` function for that with `random_state=1`"
   ]
  },
  {
   "cell_type": "code",
   "execution_count": 55,
   "id": "b02b27ce",
   "metadata": {},
   "outputs": [
    {
     "data": {
      "text/plain": [
       "lead_source                 128\n",
       "industry                    134\n",
       "number_of_courses_viewed      0\n",
       "annual_income               181\n",
       "employment_status           100\n",
       "location                     63\n",
       "interaction_count             0\n",
       "lead_score                    0\n",
       "converted                     0\n",
       "dtype: int64"
      ]
     },
     "execution_count": 55,
     "metadata": {},
     "output_type": "execute_result"
    }
   ],
   "source": [
    "df.isnull().sum()"
   ]
  },
  {
   "cell_type": "code",
   "execution_count": 56,
   "id": "f5f00dd4",
   "metadata": {},
   "outputs": [],
   "source": [
    "categorical = df.select_dtypes(include=['object']).columns.tolist()\n",
    "numerical = df.select_dtypes(include=['int64', 'float64']).columns.tolist()\n",
    "\n",
    "df[categorical] = df[categorical].fillna('NA')\n",
    "df[numerical] = df[numerical].fillna(0.0)"
   ]
  },
  {
   "cell_type": "code",
   "execution_count": 57,
   "id": "39761c89",
   "metadata": {},
   "outputs": [],
   "source": [
    "from sklearn.model_selection import train_test_split\n",
    "\n",
    "df_full_train, df_test = train_test_split(df, test_size=0.2, random_state=1)\n",
    "df_train, df_val = train_test_split(df_full_train, test_size=0.25, random_state=1)\n",
    "\n",
    "df_train = df_train.reset_index(drop=True)\n",
    "df_val = df_val.reset_index(drop=True)\n",
    "df_test = df_test.reset_index(drop=True)\n",
    "\n",
    "y_train = df_train.converted.values\n",
    "y_val = df_val.converted.values\n",
    "y_test = df_test.converted.values\n",
    "\n",
    "del df_train['converted']\n",
    "del df_val['converted']\n",
    "del df_test['converted']"
   ]
  },
  {
   "cell_type": "markdown",
   "id": "ce91dd4e",
   "metadata": {},
   "source": [
    "### Question 1: ROC AUC feature importance\n",
    "\n",
    "ROC AUC could also be used to evaluate feature importance of numerical variables. \n",
    "\n",
    "Let's do that\n",
    "\n",
    "* For each numerical variable, use it as score (aka prediction) and compute the AUC with the `y` variable as ground truth.\n",
    "* Use the training dataset for that\n",
    "\n",
    "\n",
    "If your AUC is < 0.5, invert this variable by putting \"-\" in front\n",
    "\n",
    "(e.g. `-df_train['balance']`)\n",
    "\n",
    "AUC can go below 0.5 if the variable is negatively correlated with the target variable. You can change the direction of the correlation by negating this variable - then negative correlation becomes positive.\n",
    "\n",
    "Which numerical variable (among the following 4) has the highest AUC?\n",
    "\n",
    "- `lead_score`\n",
    "- `number_of_courses_viewed`\n",
    "- `interaction_count`\n",
    "- `annual_income`"
   ]
  },
  {
   "cell_type": "code",
   "execution_count": 58,
   "id": "3df72e7b",
   "metadata": {},
   "outputs": [
    {
     "name": "stdout",
     "output_type": "stream",
     "text": [
      "lead_score: 0.614\n",
      "number_of_courses_viewed: 0.764\n",
      "interaction_count: 0.738\n",
      "annual_income: 0.552\n"
     ]
    }
   ],
   "source": [
    "from sklearn.metrics import roc_auc_score\n",
    "\n",
    "features = ['lead_score', 'number_of_courses_viewed', 'interaction_count', 'annual_income']\n",
    "\n",
    "for f in features:\n",
    "    score = roc_auc_score(y_train, df_train[f])\n",
    "    if score < 0.5:\n",
    "        score = roc_auc_score(y_train, -df_train[f])\n",
    "    print(f\"{f}: {score:.3f}\")"
   ]
  },
  {
   "cell_type": "markdown",
   "id": "0d039603",
   "metadata": {},
   "source": [
    "> number_of_courses_viewed"
   ]
  },
  {
   "cell_type": "markdown",
   "id": "2a3873f4",
   "metadata": {},
   "source": [
    "### Question 2: Training the model\n",
    "\n",
    "Apply one-hot-encoding using `DictVectorizer` and train the logistic regression with these parameters:\n",
    "\n",
    "```python\n",
    "LogisticRegression(solver='liblinear', C=1.0, max_iter=1000)\n",
    "```\n",
    "\n",
    "What's the AUC of this model on the validation dataset? (round to 3 digits)\n",
    "\n",
    "- 0.32\n",
    "- 0.52\n",
    "- 0.72\n",
    "- 0.92"
   ]
  },
  {
   "cell_type": "code",
   "execution_count": 59,
   "id": "e0d55b14",
   "metadata": {},
   "outputs": [
    {
     "name": "stdout",
     "output_type": "stream",
     "text": [
      "AUC: 0.817\n"
     ]
    }
   ],
   "source": [
    "from sklearn.feature_extraction import DictVectorizer\n",
    "from sklearn.linear_model import LogisticRegression\n",
    "from sklearn.metrics import roc_auc_score\n",
    "\n",
    "# Gabungkan fitur\n",
    "train_dict = df_train.to_dict(orient='records')\n",
    "val_dict = df_val.to_dict(orient='records')\n",
    "\n",
    "# One-hot encoding\n",
    "dv = DictVectorizer(sparse=False)\n",
    "X_train = dv.fit_transform(train_dict)\n",
    "X_val = dv.transform(val_dict)\n",
    "\n",
    "# Model\n",
    "model = LogisticRegression(solver='liblinear', C=1.0, max_iter=1000)\n",
    "model.fit(X_train, y_train)\n",
    "\n",
    "# Prediksi probabilitas\n",
    "y_pred = model.predict_proba(X_val)[:, 1]\n",
    "\n",
    "# Hitung AUC\n",
    "auc = roc_auc_score(y_val, y_pred)\n",
    "print(f\"AUC: {auc:.3f}\")"
   ]
  },
  {
   "cell_type": "markdown",
   "id": "8d7a30f0",
   "metadata": {},
   "source": [
    "> 0.72"
   ]
  },
  {
   "cell_type": "markdown",
   "id": "fddf6bc6",
   "metadata": {},
   "source": [
    "### Question 3: Precision and Recall\n",
    "\n",
    "Now let's compute precision and recall for our model.\n",
    "\n",
    "* Evaluate the model on all thresholds from 0.0 to 1.0 with step 0.01\n",
    "* For each threshold, compute precision and recall\n",
    "* Plot them\n",
    "\n",
    "At which threshold precision and recall curves intersect?\n",
    "\n",
    "* 0.145\n",
    "* 0.345\n",
    "* 0.545\n",
    "* 0.745"
   ]
  },
  {
   "cell_type": "code",
   "execution_count": 60,
   "id": "234b72a7",
   "metadata": {},
   "outputs": [
    {
     "data": {
      "image/png": "[encoded data removed]",
      "text/plain": [
       "<Figure size 640x480 with 1 Axes>"
      ]
     },
     "metadata": {},
     "output_type": "display_data"
    },
    {
     "name": "stdout",
     "output_type": "stream",
     "text": [
      "Threshold where precision and recall intersect: 0.640\n",
      "Precision: 0.779\n",
      "Recall: 0.784\n"
     ]
    }
   ],
   "source": [
    "from sklearn.metrics import precision_score, recall_score\n",
    "import numpy as np\n",
    "import matplotlib.pyplot as plt\n",
    "\n",
    "thresholds = np.arange(0.0, 1.01, 0.01)\n",
    "precisions = []\n",
    "recalls = []\n",
    "\n",
    "for t in thresholds:\n",
    "    y_pred_label = (y_pred >= t).astype(int)\n",
    "    p = precision_score(y_val, y_pred_label, zero_division=0)\n",
    "    r = recall_score(y_val, y_pred_label, zero_division=0)\n",
    "    precisions.append(p)\n",
    "    recalls.append(r)\n",
    "\n",
    "plt.plot(thresholds, precisions, label='Precision')\n",
    "plt.plot(thresholds, recalls, label='Recall')\n",
    "plt.xlabel('Threshold')\n",
    "plt.ylabel('Score')\n",
    "plt.legend()\n",
    "plt.grid(True, alpha=0.3)\n",
    "plt.show()\n",
    "\n",
    "# Cari persilangan dengan mendeteksi perubahan tanda\n",
    "precisions = np.array(precisions)\n",
    "recalls = np.array(recalls)\n",
    "\n",
    "intersection_idx = None\n",
    "for i in range(len(thresholds)-1):\n",
    "    # Cek apakah ada persilangan (perubahan tanda dari selisih)\n",
    "    if (precisions[i] - recalls[i]) * (precisions[i+1] - recalls[i+1]) < 0:\n",
    "        # Pilih yang paling dekat\n",
    "        if abs(precisions[i] - recalls[i]) < abs(precisions[i+1] - recalls[i+1]):\n",
    "            intersection_idx = i\n",
    "        else:\n",
    "            intersection_idx = i + 1\n",
    "        break\n",
    "\n",
    "if intersection_idx is not None:\n",
    "    print(f\"Threshold where precision and recall intersect: {thresholds[intersection_idx]:.3f}\")\n",
    "    print(f\"Precision: {precisions[intersection_idx]:.3f}\")\n",
    "    print(f\"Recall: {recalls[intersection_idx]:.3f}\")\n",
    "else:\n",
    "    print(\"No intersection found\")"
   ]
  },
  {
   "cell_type": "markdown",
   "id": "24d29933",
   "metadata": {},
   "source": [
    "> 0.545"
   ]
  },
  {
   "cell_type": "markdown",
   "id": "1a2ca703",
   "metadata": {},
   "source": [
    "### Question 4: F1 score\n",
    "\n",
    "Precision and recall are conflicting - when one grows, the other goes down. That's why they are often combined into the F1 score - a metrics that takes into account both\n",
    "\n",
    "This is the formula for computing F1:\n",
    "\n",
    "$$F_1 = 2 \\cdot \\cfrac{P \\cdot R}{P + R}$$\n",
    "\n",
    "Where $P$ is precision and $R$ is recall.\n",
    "\n",
    "Let's compute F1 for all thresholds from 0.0 to 1.0 with increment 0.01\n",
    "\n",
    "At which threshold F1 is maximal?\n",
    "\n",
    "- 0.14\n",
    "- 0.34\n",
    "- 0.54\n",
    "- 0.74"
   ]
  },
  {
   "cell_type": "code",
   "execution_count": 61,
   "id": "d11d196f",
   "metadata": {},
   "outputs": [
    {
     "name": "stdout",
     "output_type": "stream",
     "text": [
      "Threshold with maximal F1: 0.570\n",
      "Max F1 score: 0.812\n"
     ]
    }
   ],
   "source": [
    "from sklearn.metrics import precision_score, recall_score\n",
    "\n",
    "thresholds = np.arange(0.0, 1.01, 0.01)\n",
    "f1_scores = []\n",
    "\n",
    "for t in thresholds:\n",
    "    y_pred_label = (y_pred >= t).astype(int)\n",
    "    p = precision_score(y_val, y_pred_label, zero_division=0)\n",
    "    r = recall_score(y_val, y_pred_label, zero_division=0)\n",
    "    if p + r == 0:\n",
    "        f1 = 0\n",
    "    else:\n",
    "        f1 = 2 * p * r / (p + r)\n",
    "    f1_scores.append(f1)\n",
    "\n",
    "max_f1_idx = np.argmax(f1_scores)\n",
    "print(f\"Threshold with maximal F1: {thresholds[max_f1_idx]:.3f}\")\n",
    "print(f\"Max F1 score: {f1_scores[max_f1_idx]:.3f}\")"
   ]
  },
  {
   "cell_type": "markdown",
   "id": "4aec4e78",
   "metadata": {},
   "source": [
    "> 0.54"
   ]
  },
  {
   "cell_type": "markdown",
   "id": "1e29f630",
   "metadata": {},
   "source": [
    "### Question 5: 5-Fold CV\n",
    "\n",
    "\n",
    "Use the `KFold` class from Scikit-Learn to evaluate our model on 5 different folds:\n",
    "\n",
    "```\n",
    "KFold(n_splits=5, shuffle=True, random_state=1)\n",
    "```\n",
    "\n",
    "* Iterate over different folds of `df_full_train`\n",
    "* Split the data into train and validation\n",
    "* Train the model on train with these parameters: `LogisticRegression(solver='liblinear', C=1.0, max_iter=1000)`\n",
    "* Use AUC to evaluate the model on validation\n",
    "\n",
    "How large is standard deviation of the scores across different folds?\n",
    "\n",
    "- 0.0001\n",
    "- 0.006\n",
    "- 0.06\n",
    "- 0.36"
   ]
  },
  {
   "cell_type": "code",
   "execution_count": 62,
   "id": "51564534",
   "metadata": {},
   "outputs": [
    {
     "name": "stdout",
     "output_type": "stream",
     "text": [
      "AUC scores for each fold: ['0.806', '0.871', '0.775', '0.802', '0.856']\n",
      "Standard deviation of AUC: 0.036\n"
     ]
    }
   ],
   "source": [
    "from sklearn.model_selection import KFold\n",
    "from sklearn.feature_extraction import DictVectorizer\n",
    "from sklearn.linear_model import LogisticRegression\n",
    "from sklearn.metrics import roc_auc_score\n",
    "import numpy as np\n",
    "\n",
    "kf = KFold(n_splits=5, shuffle=True, random_state=1)\n",
    "auc_scores = []\n",
    "\n",
    "for train_idx, val_idx in kf.split(df_full_train):\n",
    "    df_train_cv = df_full_train.iloc[train_idx].reset_index(drop=True)\n",
    "    df_val_cv = df_full_train.iloc[val_idx].reset_index(drop=True)\n",
    "    \n",
    "    y_train_cv = df_train_cv.converted.values\n",
    "    y_val_cv = df_val_cv.converted.values\n",
    "    \n",
    "    del df_train_cv['converted']\n",
    "    del df_val_cv['converted']\n",
    "    \n",
    "    train_dict_cv = df_train_cv.to_dict(orient='records')\n",
    "    val_dict_cv = df_val_cv.to_dict(orient='records')\n",
    "    \n",
    "    dv_cv = DictVectorizer(sparse=False)\n",
    "    X_train_cv = dv_cv.fit_transform(train_dict_cv)\n",
    "    X_val_cv = dv_cv.transform(val_dict_cv)\n",
    "    \n",
    "    model_cv = LogisticRegression(solver='liblinear', C=1.0, max_iter=1000)\n",
    "    model_cv.fit(X_train_cv, y_train_cv)\n",
    "    y_pred_cv = model_cv.predict_proba(X_val_cv)[:, 1]\n",
    "    \n",
    "    auc_cv = roc_auc_score(y_val_cv, y_pred_cv)\n",
    "    auc_scores.append(auc_cv)\n",
    "\n",
    "std_auc = np.std(auc_scores)\n",
    "print(\"AUC scores for each fold:\", [f\"{score:.3f}\" for score in auc_scores])\n",
    "print(f\"Standard deviation of AUC: {std_auc:.3f}\")"
   ]
  },
  {
   "cell_type": "markdown",
   "id": "0e6bd466",
   "metadata": {},
   "source": [
    "> 0.06"
   ]
  },
  {
   "cell_type": "markdown",
   "id": "8409d4cf",
   "metadata": {},
   "source": [
    "### Question 6: Hyperparameter Tuning\n",
    "\n",
    "Now let's use 5-Fold cross-validation to find the best parameter `C`\n",
    "\n",
    "* Iterate over the following `C` values: `[0.000001, 0.001, 1]`\n",
    "* Initialize `KFold` with the same parameters as previously\n",
    "* Use these parameters for the model: `LogisticRegression(solver='liblinear', C=C, max_iter=1000)`\n",
    "* Compute the mean score as well as the std (round the mean and std to 3 decimal digits)\n",
    "\n",
    "Which `C` leads to the best mean score?\n",
    "\n",
    "- 0.000001\n",
    "- 0.001\n",
    "- 1\n",
    "\n",
    "If you have ties, select the score with the lowest std. If you still have ties, select the smallest `C`."
   ]
  },
  {
   "cell_type": "code",
   "execution_count": 63,
   "id": "5b9b046d",
   "metadata": {},
   "outputs": [
    {
     "name": "stdout",
     "output_type": "stream",
     "text": [
      "C=1e-06: mean AUC=0.560, std=0.024\n"
     ]
    },
    {
     "name": "stdout",
     "output_type": "stream",
     "text": [
      "C=0.001: mean AUC=0.867, std=0.029\n",
      "C=1: mean AUC=0.822, std=0.036\n",
      "Best C: 0.001\n"
     ]
    }
   ],
   "source": [
    "from sklearn.model_selection import KFold\n",
    "from sklearn.feature_extraction import DictVectorizer\n",
    "from sklearn.linear_model import LogisticRegression\n",
    "from sklearn.metrics import roc_auc_score\n",
    "import numpy as np\n",
    "\n",
    "C_values = [0.000001, 0.001, 1]\n",
    "kf = KFold(n_splits=5, shuffle=True, random_state=1)\n",
    "\n",
    "results = []\n",
    "\n",
    "for C in C_values:\n",
    "    auc_scores = []\n",
    "    for train_idx, val_idx in kf.split(df_full_train):\n",
    "        df_train_cv = df_full_train.iloc[train_idx].reset_index(drop=True)\n",
    "        df_val_cv = df_full_train.iloc[val_idx].reset_index(drop=True)\n",
    "        \n",
    "        y_train_cv = df_train_cv.converted.values\n",
    "        y_val_cv = df_val_cv.converted.values\n",
    "        \n",
    "        del df_train_cv['converted']\n",
    "        del df_val_cv['converted']\n",
    "        \n",
    "        train_dict_cv = df_train_cv.to_dict(orient='records')\n",
    "        val_dict_cv = df_val_cv.to_dict(orient='records')\n",
    "        \n",
    "        dv_cv = DictVectorizer(sparse=False)\n",
    "        X_train_cv = dv_cv.fit_transform(train_dict_cv)\n",
    "        X_val_cv = dv_cv.transform(val_dict_cv)\n",
    "        \n",
    "        model_cv = LogisticRegression(solver='liblinear', C=C, max_iter=1000)\n",
    "        model_cv.fit(X_train_cv, y_train_cv)\n",
    "        y_pred_cv = model_cv.predict_proba(X_val_cv)[:, 1]\n",
    "        \n",
    "        auc_cv = roc_auc_score(y_val_cv, y_pred_cv)\n",
    "        auc_scores.append(auc_cv)\n",
    "    \n",
    "    mean_auc = np.mean(auc_scores)\n",
    "    std_auc = np.std(auc_scores)\n",
    "    results.append((C, mean_auc, std_auc))\n",
    "    print(f\"C={C}: mean AUC={mean_auc:.3f}, std={std_auc:.3f}\")\n",
    "\n",
    "# Pilih C dengan mean tertinggi, jika ada yang sama pilih std terendah, jika masih sama pilih C terkecil\n",
    "results_sorted = sorted(results, key=lambda x: (-x[1], x[2], x[0]))\n",
    "best_C = results_sorted[0][0]\n",
    "print(f\"Best C: {best_C}\")"
   ]
  },
  {
   "cell_type": "markdown",
   "id": "163b2da3",
   "metadata": {},
   "source": [
    "> 0.001"
   ]
  },
  {
   "cell_type": "markdown",
   "id": "a47a78c1",
   "metadata": {},
   "source": [
    "## Submit the results\n",
    "\n",
    "* Submit your results here: https://courses.datatalks.club/ml-zoomcamp-2025/homework/hw04\n",
    "* If your answer doesn't match options exactly, select the closest one"
   ]
  }
 ],
 "metadata": {
  "kernelspec": {
   "display_name": ".venv",
   "language": "python",
   "name": "python3"
  },
  "language_info": {
   "codemirror_mode": {
    "name": "ipython",
    "version": 3
   },
   "file_extension": ".py",
   "mimetype": "text/x-python",
   "name": "python",
   "nbconvert_exporter": "python",
   "pygments_lexer": "ipython3",
   "version": "3.12.3"
  }
 },
 "nbformat": 4,
 "nbformat_minor": 5
}
